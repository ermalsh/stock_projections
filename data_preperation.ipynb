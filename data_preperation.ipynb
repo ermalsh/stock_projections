{
 "cells": [
  {
   "cell_type": "markdown",
   "metadata": {},
   "source": [
    "## Stock data download and pre-processing\n",
    "> In this notebook we import stock data from yahoo finance and preprocess it for our neural network input.\n",
    "    \n"
   ]
  },
  {
   "cell_type": "markdown",
   "metadata": {},
   "source": [
    "###  1) Import data_manager module\n",
    "    \n",
    "     The data_manager module has helper classes and methods for working with our stock data.\n",
    "     \n",
    "   > The module has the following classes that we will use in this notebook:\n",
    "   \n",
    "   > ###### Downloader -  \n",
    "   *Downloads historical end of day stock quotes from yahoo for a given trade symbol \n",
    "    and a given date range.*\n",
    "\n",
    "   > ###### Feature_Selection -\n",
    "   *Takes DataFrame of yahoo trade data for a given trade symbol\n",
    "     and performs transformations to creates features for neural network input.*\n",
    "     \n",
    "  We will also use the method `'companies()'` to import a list of company trade ticker symbols. "
   ]
  },
  {
   "cell_type": "code",
   "execution_count": 1,
   "metadata": {},
   "outputs": [],
   "source": [
    "%load_ext autoreload\n",
    "%aimport data_manager\n",
    "%autoreload 1\n",
    "\n",
    "from data_manager import *"
   ]
  },
  {
   "cell_type": "markdown",
   "metadata": {},
   "source": [
    "###  2) Import company list\n",
    "> Here we read a csv file and import a list of company names along with their trade symbol and industry"
   ]
  },
  {
   "cell_type": "code",
   "execution_count": 2,
   "metadata": {
    "scrolled": false
   },
   "outputs": [
    {
     "data": {
      "text/html": [
       "<div>\n",
       "<style scoped>\n",
       "    .dataframe tbody tr th:only-of-type {\n",
       "        vertical-align: middle;\n",
       "    }\n",
       "\n",
       "    .dataframe tbody tr th {\n",
       "        vertical-align: top;\n",
       "    }\n",
       "\n",
       "    .dataframe thead th {\n",
       "        text-align: right;\n",
       "    }\n",
       "</style>\n",
       "<table border=\"1\" class=\"dataframe\">\n",
       "  <thead>\n",
       "    <tr style=\"text-align: right;\">\n",
       "      <th></th>\n",
       "      <th>Company</th>\n",
       "      <th>Symbol</th>\n",
       "      <th>Industry</th>\n",
       "    </tr>\n",
       "  </thead>\n",
       "  <tbody>\n",
       "    <tr>\n",
       "      <th>0</th>\n",
       "      <td>Snap</td>\n",
       "      <td>SNAP</td>\n",
       "      <td>Social</td>\n",
       "    </tr>\n",
       "    <tr>\n",
       "      <th>1</th>\n",
       "      <td>Facebook</td>\n",
       "      <td>FB</td>\n",
       "      <td>Social</td>\n",
       "    </tr>\n",
       "    <tr>\n",
       "      <th>2</th>\n",
       "      <td>EW</td>\n",
       "      <td>EW</td>\n",
       "      <td>Social</td>\n",
       "    </tr>\n",
       "    <tr>\n",
       "      <th>3</th>\n",
       "      <td>TESLA</td>\n",
       "      <td>TSLA</td>\n",
       "      <td>Company</td>\n",
       "    </tr>\n",
       "  </tbody>\n",
       "</table>\n",
       "</div>"
      ],
      "text/plain": [
       "    Company Symbol Industry\n",
       "0      Snap   SNAP   Social\n",
       "1  Facebook     FB   Social\n",
       "2        EW     EW   Social\n",
       "3     TESLA   TSLA  Company"
      ]
     },
     "execution_count": 2,
     "metadata": {},
     "output_type": "execute_result"
    }
   ],
   "source": [
    "#read list of companies from csv file\n",
    "stocks = companies()\n",
    "stocks"
   ]
  },
  {
   "cell_type": "code",
   "execution_count": 3,
   "metadata": {},
   "outputs": [
    {
     "name": "stdout",
     "output_type": "stream",
     "text": [
      "['SNAP', 'FB', 'EW', 'TSLA']\n"
     ]
    }
   ],
   "source": [
    "#save symbols as list\n",
    "symbols = stocks['Symbol'].values.tolist()\n",
    "print(symbols)"
   ]
  },
  {
   "cell_type": "markdown",
   "metadata": {},
   "source": [
    "### 3) Download stock quote from yahoo and save to disk\n",
    "> Here we download data from yahoo finance for each company trade symbol and save it to csv file.\n",
    ">> The following data is downloaded for each trading date:\n",
    "* Date\n",
    "* Open\n",
    "* High\n",
    "* Low \n",
    "* Close\n",
    "* Adj Close\n",
    "* Volume"
   ]
  },
  {
   "cell_type": "code",
   "execution_count": 4,
   "metadata": {},
   "outputs": [
    {
     "name": "stdout",
     "output_type": "stream",
     "text": [
      "OS error for symbol SNAP: HTTP Error 401: Unauthorized\n",
      "OS error for symbol FB: HTTP Error 401: Unauthorized\n",
      "OS error for symbol EW: HTTP Error 401: Unauthorized\n",
      "OS error for symbol TSLA: HTTP Error 401: Unauthorized\n"
     ]
    }
   ],
   "source": [
    "#YYYYMMDD date format\n",
    "start_date = '20170601' \n",
    "end_date = '20190405'\n",
    "\n",
    "#download quotes from yahoo and save to directory\n",
    "for ticker in symbols:\n",
    "    download = Downloader(ticker,start_date, end_date)\n",
    "    download.save()"
   ]
  },
  {
   "cell_type": "markdown",
   "metadata": {},
   "source": [
    "### 4) Feature Selection and Normalization\n",
    "> In this step we read the trade data that was saved to csv file in step 3 and perform transformations.\n",
    "\n",
    ">* We use the Feature_Selection class that first read and then calcuates\n",
    "i) log normal daily returns and ii) [money flow index (MFI)](http://stockcharts.com/school/doku.php?id=chart_school:technical_indicators:money_flow_index_mfi).\n",
    ">* Then we normalize the Adj Closed, log normal returns and the MFI between -1 and 1. \n",
    ">* Finally we save to csv file the transformed stock and normalized data.  "
   ]
  },
  {
   "cell_type": "code",
   "execution_count": 5,
   "metadata": {},
   "outputs": [],
   "source": [
    "file_path = \"./data\\\\{}\\\\quotes.csv\"\n",
    "\n",
    "for ticker in symbols:\n",
    "    #check if file exist first\n",
    "    if os.path.isfile(file_path.format(ticker)):\n",
    "        feature = Feature_Selection.read_csv(ticker, file_path.format(ticker))\n",
    "        feature.calculate_features()\n",
    "        feature.normalize_data()\n",
    "        feature.save_stock_data()\n",
    "        feature.save_normalized_data()"
   ]
  },
  {
   "cell_type": "markdown",
   "metadata": {},
   "source": [
    "### 5) Visualize stock annualized volatility\n",
    "> * Here we visualize the annualized volatility distribution of our stocks and statistics.\n",
    "\n",
    "\n",
    "> * We can see that the annualized volatilities of our stocks are normally distributed with a volatility mean of 0.2035.\n",
    "\n",
    "\n",
    "> * Annualized volatility gives us a good standard measure of the degree of variation in the closing prices of a particular stock.  "
   ]
  },
  {
   "cell_type": "code",
   "execution_count": 6,
   "metadata": {},
   "outputs": [
    {
     "data": {
      "image/png": "[encoded data removed]",
      "text/plain": [
       "<Figure size 432x288 with 1 Axes>"
      ]
     },
     "metadata": {
      "needs_background": "light"
     },
     "output_type": "display_data"
    },
    {
     "data": {
      "image/png": "[encoded data removed]",
      "text/plain": [
       "<Figure size 432x288 with 1 Axes>"
      ]
     },
     "metadata": {
      "needs_background": "light"
     },
     "output_type": "display_data"
    },
    {
     "data": {
      "text/html": [
       "<div>\n",
       "<style scoped>\n",
       "    .dataframe tbody tr th:only-of-type {\n",
       "        vertical-align: middle;\n",
       "    }\n",
       "\n",
       "    .dataframe tbody tr th {\n",
       "        vertical-align: top;\n",
       "    }\n",
       "\n",
       "    .dataframe thead th {\n",
       "        text-align: right;\n",
       "    }\n",
       "</style>\n",
       "<table border=\"1\" class=\"dataframe\">\n",
       "  <thead>\n",
       "    <tr style=\"text-align: right;\">\n",
       "      <th></th>\n",
       "      <th>Volatility</th>\n",
       "    </tr>\n",
       "  </thead>\n",
       "  <tbody>\n",
       "    <tr>\n",
       "      <th>count</th>\n",
       "      <td>4.000000</td>\n",
       "    </tr>\n",
       "    <tr>\n",
       "      <th>mean</th>\n",
       "      <td>0.443245</td>\n",
       "    </tr>\n",
       "    <tr>\n",
       "      <th>std</th>\n",
       "      <td>0.164196</td>\n",
       "    </tr>\n",
       "    <tr>\n",
       "      <th>min</th>\n",
       "      <td>0.281196</td>\n",
       "    </tr>\n",
       "    <tr>\n",
       "      <th>25%</th>\n",
       "      <td>0.322434</td>\n",
       "    </tr>\n",
       "    <tr>\n",
       "      <th>50%</th>\n",
       "      <td>0.427524</td>\n",
       "    </tr>\n",
       "    <tr>\n",
       "      <th>75%</th>\n",
       "      <td>0.548335</td>\n",
       "    </tr>\n",
       "    <tr>\n",
       "      <th>max</th>\n",
       "      <td>0.636738</td>\n",
       "    </tr>\n",
       "  </tbody>\n",
       "</table>\n",
       "</div>"
      ],
      "text/plain": [
       "       Volatility\n",
       "count    4.000000\n",
       "mean     0.443245\n",
       "std      0.164196\n",
       "min      0.281196\n",
       "25%      0.322434\n",
       "50%      0.427524\n",
       "75%      0.548335\n",
       "max      0.636738"
      ]
     },
     "execution_count": 6,
     "metadata": {},
     "output_type": "execute_result"
    }
   ],
   "source": [
    "%matplotlib inline\n",
    "import matplotlib.pyplot as plt\n",
    "\n",
    "vols = [Volatility(ticker).annual for ticker in symbols]\n",
    "dataset = pd.DataFrame({'Symbol':symbols,'Volatility':vols})\n",
    "\n",
    "#volatility distribution\n",
    "dataset.hist()\n",
    "plt.show()\n",
    "\n",
    "#box plot to show range\n",
    "dataset.boxplot()\n",
    "plt.show()\n",
    "\n",
    "#volatility statistics\n",
    "dataset.describe()"
   ]
  }
 ],
 "metadata": {
  "anaconda-cloud": {},
  "kernelspec": {
   "display_name": "Python 3",
   "language": "python",
   "name": "python3"
  },
  "language_info": {
   "codemirror_mode": {
    "name": "ipython",
    "version": 3
   },
   "file_extension": ".py",
   "mimetype": "text/x-python",
   "name": "python",
   "nbconvert_exporter": "python",
   "pygments_lexer": "ipython3",
   "version": "3.7.3"
  }
 },
 "nbformat": 4,
 "nbformat_minor": 2
}
