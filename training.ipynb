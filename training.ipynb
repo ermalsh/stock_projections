{
 "cells": [
  {
   "cell_type": "markdown",
   "metadata": {},
   "source": [
    "## Model training\n",
    "> In this notebook we train a model for each stock and save it to disk."
   ]
  },
  {
   "cell_type": "markdown",
   "metadata": {},
   "source": [
    "### 1) Here we import the data_manager and model modules \n",
    "> * Here we use the `'companies()'` method from and `'data_manager'` module.\n",
    "> * From the `'model'` module we use the `'model_selector'` method and the `'ModelLoader'` class."
   ]
  },
  {
   "cell_type": "code",
   "execution_count": 2,
   "metadata": {},
   "outputs": [
    {
     "name": "stderr",
     "output_type": "stream",
     "text": [
      "Using TensorFlow backend.\n"
     ]
    }
   ],
   "source": [
    "%load_ext autoreload\n",
    "%aimport data_manager\n",
    "%aimport model\n",
    "%autoreload 1\n",
    "\n",
    "from data_manager import *\n",
    "from model import *"
   ]
  },
  {
   "cell_type": "markdown",
   "metadata": {},
   "source": [
    "###  2) Import company list\n",
    "> Here we read a csv file and import a list of company trade symbols"
   ]
  },
  {
   "cell_type": "code",
   "execution_count": 3,
   "metadata": {},
   "outputs": [
    {
     "name": "stdout",
     "output_type": "stream",
     "text": [
      "['SNAP', 'FB', 'EW', 'TSLA']\n"
     ]
    }
   ],
   "source": [
    "stocks = companies()\n",
    "symbols = stocks['Symbol'].values.tolist()\n",
    "print(symbols)"
   ]
  },
  {
   "cell_type": "markdown",
   "metadata": {},
   "source": [
    "###  3) RNN model training\n",
    "> In this section we train a RNN model for each stock.\n",
    "\n",
    "In the model selection [notebook](./model_selection.ipynb) we seleted a bidirectional RNN model where we would pass parameter lists and then select the model with lowest MSE test. We use that model here to train every stock."
   ]
  },
  {
   "cell_type": "code",
   "execution_count": 4,
   "metadata": {},
   "outputs": [
    {
     "name": "stdout",
     "output_type": "stream",
     "text": [
      "\n",
      "    *** final_model() ***\n",
      "    ========================\n",
      "        RNN model with following layers:\n",
      "        1) Bidirectional LSTM layer (output size based on X input sequence length)\n",
      "        2) Fully connected layer (output based on input sequence length)\n",
      "        3) Dropout (based on given dropout rate) \n",
      "        4) Fully connected tanh output layer of 1\n",
      "\n",
      "    Parameters\n",
      "    -----------\n",
      "    X: numpy array\n",
      "        input sequence data.\n",
      "\n",
      "    y: numpy array\n",
      "        target sequence data.\n",
      "\n",
      "    learn_rate: float\n",
      "        Neural network learning rate.\n",
      "        \n",
      "    dropout: float\n",
      "        Dropout rate.\n",
      "\n",
      "    Returns \n",
      "    -----------\n",
      "    Returns compiled keras sequential model\n",
      "    \n",
      "\n",
      "    *** model_selector() ***\n",
      "    ========================\n",
      "\n",
      "        Selects the best peforming (base on lowest MSE on test data) model for a given ticker based on \n",
      "        the given widow sizes, learn rates, drop out rates, and epoch counts\n",
      "\n",
      "    Parameter\n",
      "    -----------\n",
      "    ticker: str\n",
      "        company trade symbol.\n",
      "\n",
      "    window_size: list\n",
      "        List of sequence lengths to test.\n",
      "\n",
      "    learn_rates: list\n",
      "        List of learning rates to test.\n",
      "        \n",
      "    dropouts: list`\n",
      "        List of dropouts rates to test.\n",
      "\n",
      "    epochs: list\n",
      "        List of epochs to test.\n",
      "    \n",
      "    batch_size: int\n",
      "        training batch_size\n",
      "\n",
      "    verbose: int [defualt 0]\n",
      "        print to screen indicator.  \n",
      "        If 0 does not print anything to screen.\n",
      "\n",
      "        If 1 prints detail for each model tested and also the \n",
      "        summary detail for choosen model to screen.\n",
      "\n",
      "        If 2 prints summary detail for choosen model to screen.\n",
      "\n",
      "    Returns\n",
      "    -----------\n",
      "    Tuple with two items.  First item is the keras trained model and \n",
      "    second a dictionary with the following keys:\n",
      "        1) ticker: company trade symbol of the trained company \n",
      "        2) test_error :   the model MSE test error  \n",
      "        3) train_error:  the moodel MSE training error \n",
      "        4) dropout:  the moodel drop out rate\n",
      "        5) epoch:  the moodel epoch count\n",
      "        6) learn_rate:  the moodel learning rate\n",
      "        7) window_size:  the sequence length of the input data\n",
      "    \n"
     ]
    }
   ],
   "source": [
    "print(final_model.__doc__)\n",
    "print(model_selector.__doc__)"
   ]
  },
  {
   "cell_type": "code",
   "execution_count": 5,
   "metadata": {},
   "outputs": [],
   "source": [
    "#our model selector input variables\n",
    "window_sizes = [5,7,10]\n",
    "dropouts =  [0.25,0.4]\n",
    "learn_rates = [0.01,0.001]\n",
    "epochs = [100,200]\n",
    "batch_size = 50"
   ]
  },
  {
   "cell_type": "markdown",
   "metadata": {},
   "source": [
    "### Train one stock\n",
    "> Here lets train the first stock in our list and save to disk."
   ]
  },
  {
   "cell_type": "code",
   "execution_count": 6,
   "metadata": {
    "scrolled": false
   },
   "outputs": [
    {
     "name": "stdout",
     "output_type": "stream",
     "text": [
      "*** Best Model Selection for ['SNAP', 'FB', 'EW', 'TSLA'] ***\n",
      "============================================================\n",
      "\n",
      "Window size: 5\n",
      "------------------------------------------------------------\n",
      "Unexpected error for symbol ['SNAP', 'FB', 'EW', 'TSLA']:<class 'FileNotFoundError'>\n"
     ]
    },
    {
     "ename": "AttributeError",
     "evalue": "'MultiSequence' object has no attribute '_SequenceBase__data_normal'",
     "output_type": "error",
     "traceback": [
      "\u001b[1;31m---------------------------------------------------------------------------\u001b[0m",
      "\u001b[1;31mAttributeError\u001b[0m                            Traceback (most recent call last)",
      "\u001b[1;32m<ipython-input-6-3b6e3395c0e6>\u001b[0m in \u001b[0;36m<module>\u001b[1;34m\u001b[0m\n\u001b[1;32m----> 1\u001b[1;33m \u001b[0mresult\u001b[0m \u001b[1;33m=\u001b[0m \u001b[0mmodel_selector\u001b[0m\u001b[1;33m(\u001b[0m\u001b[0msymbols\u001b[0m\u001b[1;33m[\u001b[0m\u001b[1;36m0\u001b[0m\u001b[1;33m:\u001b[0m\u001b[1;33m]\u001b[0m\u001b[1;33m,\u001b[0m \u001b[0mwindow_sizes\u001b[0m\u001b[1;33m,\u001b[0m \u001b[0mlearn_rates\u001b[0m\u001b[1;33m,\u001b[0m \u001b[0mdropouts\u001b[0m\u001b[1;33m,\u001b[0m \u001b[0mepochs\u001b[0m\u001b[1;33m,\u001b[0m \u001b[0mbatch_size\u001b[0m\u001b[1;33m,\u001b[0m\u001b[0mverbose\u001b[0m\u001b[1;33m=\u001b[0m\u001b[1;36m1\u001b[0m\u001b[1;33m)\u001b[0m\u001b[1;33m\u001b[0m\u001b[1;33m\u001b[0m\u001b[0m\n\u001b[0m\u001b[0;32m      2\u001b[0m \u001b[1;33m\u001b[0m\u001b[0m\n\u001b[0;32m      3\u001b[0m \u001b[0mprint\u001b[0m\u001b[1;33m(\u001b[0m\u001b[1;34m\"\\nResults : \"\u001b[0m\u001b[1;33m)\u001b[0m\u001b[1;33m\u001b[0m\u001b[1;33m\u001b[0m\u001b[0m\n\u001b[0;32m      4\u001b[0m \u001b[0mprint\u001b[0m\u001b[1;33m(\u001b[0m\u001b[1;34m\"-\"\u001b[0m\u001b[1;33m*\u001b[0m\u001b[1;36m60\u001b[0m\u001b[1;33m)\u001b[0m\u001b[1;33m\u001b[0m\u001b[1;33m\u001b[0m\u001b[0m\n\u001b[0;32m      5\u001b[0m \u001b[0mprint\u001b[0m\u001b[1;33m(\u001b[0m\u001b[0mresult\u001b[0m\u001b[1;33m[\u001b[0m\u001b[1;36m0\u001b[0m\u001b[1;33m]\u001b[0m\u001b[1;33m)\u001b[0m\u001b[1;33m\u001b[0m\u001b[1;33m\u001b[0m\u001b[0m\n",
      "\u001b[1;32m~\\Desktop\\Tensor\\Stock_Analysis\\stock_projections\\model.py\u001b[0m in \u001b[0;36mmodel_selector\u001b[1;34m(ticker, window_sizes, learn_rates, dropouts, epochs, batch_size, verbose)\u001b[0m\n\u001b[0;32m    255\u001b[0m \u001b[1;33m\u001b[0m\u001b[0m\n\u001b[0;32m    256\u001b[0m         \u001b[1;31m#prepare our sequence data\u001b[0m\u001b[1;33m\u001b[0m\u001b[1;33m\u001b[0m\u001b[1;33m\u001b[0m\u001b[0m\n\u001b[1;32m--> 257\u001b[1;33m         \u001b[0mseq_obj\u001b[0m \u001b[1;33m=\u001b[0m \u001b[0mMultiSequence\u001b[0m\u001b[1;33m(\u001b[0m\u001b[0mticker\u001b[0m\u001b[1;33m,\u001b[0m\u001b[0mwindow_size\u001b[0m\u001b[1;33m,\u001b[0m\u001b[1;36m1\u001b[0m\u001b[1;33m)\u001b[0m\u001b[1;33m\u001b[0m\u001b[1;33m\u001b[0m\u001b[0m\n\u001b[0m\u001b[0;32m    258\u001b[0m         \u001b[0mX_train\u001b[0m\u001b[1;33m,\u001b[0m\u001b[0my_train\u001b[0m\u001b[1;33m,\u001b[0m\u001b[0mX_test\u001b[0m\u001b[1;33m,\u001b[0m\u001b[0my_test\u001b[0m \u001b[1;33m=\u001b[0m \u001b[0msplit_data\u001b[0m\u001b[1;33m(\u001b[0m\u001b[0mseq_obj\u001b[0m\u001b[1;33m)\u001b[0m\u001b[1;33m\u001b[0m\u001b[1;33m\u001b[0m\u001b[0m\n\u001b[0;32m    259\u001b[0m \u001b[1;33m\u001b[0m\u001b[0m\n",
      "\u001b[1;32m~\\Desktop\\Tensor\\Stock_Analysis\\stock_projections\\data_manager.py\u001b[0m in \u001b[0;36m__init__\u001b[1;34m(self, symbol, window_size, target_length)\u001b[0m\n\u001b[0;32m    526\u001b[0m     \u001b[1;32mdef\u001b[0m \u001b[0m__init__\u001b[0m\u001b[1;33m(\u001b[0m\u001b[0mself\u001b[0m\u001b[1;33m,\u001b[0m\u001b[0msymbol\u001b[0m\u001b[1;33m:\u001b[0m\u001b[0mstr\u001b[0m\u001b[1;33m,\u001b[0m \u001b[0mwindow_size\u001b[0m\u001b[1;33m:\u001b[0m\u001b[0mint\u001b[0m\u001b[1;33m,\u001b[0m \u001b[0mtarget_length\u001b[0m\u001b[1;33m:\u001b[0m\u001b[0mint\u001b[0m\u001b[1;33m)\u001b[0m\u001b[1;33m:\u001b[0m\u001b[1;33m\u001b[0m\u001b[1;33m\u001b[0m\u001b[0m\n\u001b[0;32m    527\u001b[0m         \u001b[0mSequenceBase\u001b[0m\u001b[1;33m.\u001b[0m\u001b[0m__init__\u001b[0m\u001b[1;33m(\u001b[0m\u001b[0mself\u001b[0m\u001b[1;33m,\u001b[0m\u001b[0msymbol\u001b[0m\u001b[1;33m,\u001b[0m \u001b[0mwindow_size\u001b[0m\u001b[1;33m,\u001b[0m \u001b[0mtarget_length\u001b[0m\u001b[1;33m)\u001b[0m\u001b[1;33m\u001b[0m\u001b[1;33m\u001b[0m\u001b[0m\n\u001b[1;32m--> 528\u001b[1;33m         \u001b[0mself\u001b[0m\u001b[1;33m.\u001b[0m\u001b[0m__sequence_data\u001b[0m\u001b[1;33m(\u001b[0m\u001b[1;33m)\u001b[0m\u001b[1;33m\u001b[0m\u001b[1;33m\u001b[0m\u001b[0m\n\u001b[0m\u001b[0;32m    529\u001b[0m \u001b[1;33m\u001b[0m\u001b[0m\n\u001b[0;32m    530\u001b[0m     \u001b[1;32mdef\u001b[0m \u001b[0m__sequence_data\u001b[0m\u001b[1;33m(\u001b[0m\u001b[0mself\u001b[0m\u001b[1;33m)\u001b[0m\u001b[1;33m:\u001b[0m\u001b[1;33m\u001b[0m\u001b[1;33m\u001b[0m\u001b[0m\n",
      "\u001b[1;32m~\\Desktop\\Tensor\\Stock_Analysis\\stock_projections\\data_manager.py\u001b[0m in \u001b[0;36m__sequence_data\u001b[1;34m(self)\u001b[0m\n\u001b[0;32m    532\u001b[0m         \"\"\"\n\u001b[0;32m    533\u001b[0m         \u001b[1;31m#normalized log returns\u001b[0m\u001b[1;33m\u001b[0m\u001b[1;33m\u001b[0m\u001b[1;33m\u001b[0m\u001b[0m\n\u001b[1;32m--> 534\u001b[1;33m         \u001b[0mclose\u001b[0m \u001b[1;33m=\u001b[0m \u001b[0mself\u001b[0m\u001b[1;33m.\u001b[0m\u001b[0mdata\u001b[0m\u001b[1;33m[\u001b[0m\u001b[1;34m'normal_close'\u001b[0m\u001b[1;33m]\u001b[0m\u001b[1;33m.\u001b[0m\u001b[0mvalues\u001b[0m \u001b[1;31m#np.array(range(0,15))  #\u001b[0m\u001b[1;33m\u001b[0m\u001b[1;33m\u001b[0m\u001b[0m\n\u001b[0m\u001b[0;32m    535\u001b[0m         \u001b[0mreturns\u001b[0m \u001b[1;33m=\u001b[0m \u001b[0mself\u001b[0m\u001b[1;33m.\u001b[0m\u001b[0mdata\u001b[0m\u001b[1;33m[\u001b[0m\u001b[1;34m'normal_returns'\u001b[0m\u001b[1;33m]\u001b[0m\u001b[1;33m.\u001b[0m\u001b[0mvalues\u001b[0m\u001b[1;33m\u001b[0m\u001b[1;33m\u001b[0m\u001b[0m\n\u001b[0;32m    536\u001b[0m         \u001b[0mmfi\u001b[0m \u001b[1;33m=\u001b[0m \u001b[0mself\u001b[0m\u001b[1;33m.\u001b[0m\u001b[0mdata\u001b[0m\u001b[1;33m[\u001b[0m\u001b[1;34m'normal_mfi'\u001b[0m\u001b[1;33m]\u001b[0m\u001b[1;33m.\u001b[0m\u001b[0mvalues\u001b[0m\u001b[1;33m\u001b[0m\u001b[1;33m\u001b[0m\u001b[0m\n",
      "\u001b[1;32m~\\Desktop\\Tensor\\Stock_Analysis\\stock_projections\\data_manager.py\u001b[0m in \u001b[0;36mdata\u001b[1;34m(self)\u001b[0m\n\u001b[0;32m    431\u001b[0m     \u001b[1;32mdef\u001b[0m \u001b[0mdata\u001b[0m\u001b[1;33m(\u001b[0m\u001b[0mself\u001b[0m\u001b[1;33m)\u001b[0m\u001b[1;33m:\u001b[0m\u001b[1;33m\u001b[0m\u001b[1;33m\u001b[0m\u001b[0m\n\u001b[0;32m    432\u001b[0m         \u001b[1;34m\"\"\" Get the trade data as a DataFrame \"\"\"\u001b[0m\u001b[1;33m\u001b[0m\u001b[1;33m\u001b[0m\u001b[0m\n\u001b[1;32m--> 433\u001b[1;33m         \u001b[1;32mreturn\u001b[0m \u001b[0mself\u001b[0m\u001b[1;33m.\u001b[0m\u001b[0m__data_normal\u001b[0m\u001b[1;33m\u001b[0m\u001b[1;33m\u001b[0m\u001b[0m\n\u001b[0m\u001b[0;32m    434\u001b[0m \u001b[1;33m\u001b[0m\u001b[0m\n\u001b[0;32m    435\u001b[0m     \u001b[1;33m@\u001b[0m\u001b[0mproperty\u001b[0m\u001b[1;33m\u001b[0m\u001b[1;33m\u001b[0m\u001b[0m\n",
      "\u001b[1;31mAttributeError\u001b[0m: 'MultiSequence' object has no attribute '_SequenceBase__data_normal'"
     ]
    }
   ],
   "source": [
    "result = model_selector(symbols[0:], window_sizes, learn_rates, dropouts, epochs, batch_size,verbose=1)\n",
    "\n",
    "print(\"\\nResults : \")\n",
    "print(\"-\"*60)\n",
    "print(result[0])\n",
    "\n",
    "print(result[1])\n",
    "#save trained model\n",
    "ModelLoader.save(result[1]['ticker'],result[0],result[1])\n",
    "print(\"Saved trained model for {}\".format(result[1]['ticker']))"
   ]
  },
  {
   "cell_type": "markdown",
   "metadata": {},
   "source": [
    "### Training remaining stocks\n",
    "> * Here train the remaining stocks and save the model to directory."
   ]
  },
  {
   "cell_type": "code",
   "execution_count": null,
   "metadata": {
    "scrolled": false
   },
   "outputs": [
    {
     "name": "stdout",
     "output_type": "stream",
     "text": [
      "WARNING:tensorflow:From c:\\program files\\python37\\lib\\site-packages\\tensorflow\\python\\framework\\op_def_library.py:263: colocate_with (from tensorflow.python.framework.ops) is deprecated and will be removed in a future version.\n",
      "Instructions for updating:\n",
      "Colocations handled automatically by placer.\n",
      "WARNING:tensorflow:From c:\\program files\\python37\\lib\\site-packages\\keras\\backend\\tensorflow_backend.py:3445: calling dropout (from tensorflow.python.ops.nn_ops) with keep_prob is deprecated and will be removed in a future version.\n",
      "Instructions for updating:\n",
      "Please use `rate` instead of `keep_prob`. Rate should be set to `rate = 1 - keep_prob`.\n",
      "WARNING:tensorflow:From c:\\program files\\python37\\lib\\site-packages\\tensorflow\\python\\ops\\math_ops.py:3066: to_int32 (from tensorflow.python.ops.math_ops) is deprecated and will be removed in a future version.\n",
      "Instructions for updating:\n",
      "Use tf.cast instead.\n"
     ]
    }
   ],
   "source": [
    "from keras import backend as K\n",
    "import tensorflow as tf\n",
    "\n",
    "for ticker in symbols[1:]:\n",
    "    #release memory\n",
    "    K.clear_session()\n",
    "    tf.reset_default_graph()\n",
    "    \n",
    "    result = model_selector(ticker, window_sizes, learn_rates, dropouts, epochs, batch_size,verbose=2)\n",
    "    print(\"\\nResults : \")\n",
    "    print(\"-\"*60)\n",
    "    print(result[0])\n",
    "\n",
    "    print(result[1])\n",
    "    #save trained model\n",
    "    ModelLoader.save(result[1]['ticker'],result[0],result[1])\n",
    "    print(\" ==> Saved trained model for {}\".format(result[1]['ticker']))\n"
   ]
  },
  {
   "cell_type": "code",
   "execution_count": null,
   "metadata": {},
   "outputs": [],
   "source": []
  }
 ],
 "metadata": {
  "anaconda-cloud": {},
  "kernelspec": {
   "display_name": "Python 3",
   "language": "python",
   "name": "python3"
  },
  "language_info": {
   "codemirror_mode": {
    "name": "ipython",
    "version": 3
   },
   "file_extension": ".py",
   "mimetype": "text/x-python",
   "name": "python",
   "nbconvert_exporter": "python",
   "pygments_lexer": "ipython3",
   "version": "3.7.3"
  }
 },
 "nbformat": 4,
 "nbformat_minor": 2
}
