{
 "cells": [
  {
   "cell_type": "markdown",
   "metadata": {},
   "source": [
    "## Model training\n",
    "> In this notebook we train a model for each stock and save it to disk."
   ]
  },
  {
   "cell_type": "markdown",
   "metadata": {},
   "source": [
    "### 1) Here we import the data_manager and model modules \n",
    "> * Here we use the `'companies()'` method from and `'data_manager'` module.\n",
    "> * From the `'model'` module we use the `'model_selector'` method and the `'ModelLoader'` class."
   ]
  },
  {
   "cell_type": "code",
   "execution_count": 1,
   "metadata": {},
   "outputs": [
    {
     "name": "stderr",
     "output_type": "stream",
     "text": [
      "Using TensorFlow backend.\n"
     ]
    }
   ],
   "source": [
    "%load_ext autoreload\n",
    "%aimport data_manager\n",
    "%aimport model\n",
    "%autoreload 1\n",
    "\n",
    "from data_manager import *\n",
    "from model import *"
   ]
  },
  {
   "cell_type": "markdown",
   "metadata": {},
   "source": [
    "###  2) Import company list\n",
    "> Here we read a csv file and import a list of company trade symbols"
   ]
  },
  {
   "cell_type": "code",
   "execution_count": 2,
   "metadata": {},
   "outputs": [
    {
     "name": "stdout",
     "output_type": "stream",
     "text": [
      "['MMM', 'AXP', 'AAPL', 'BA', 'CAT', 'CVX', 'CSCO', 'KO', 'DWDP', 'XOM', 'WBA', 'GS', 'HD', 'IBM', 'INTC', 'JNJ', 'JPM', 'MCD', 'MRK', 'MSFT', 'NKE', 'PFE', 'PG', 'SNAP', 'TRV', 'UNH', 'UTX', 'VZ', 'V', 'WMT', 'DIS']\n"
     ]
    }
   ],
   "source": [
    "stocks = companies()\n",
    "symbols = stocks['Symbol'].values.tolist()\n",
    "print(symbols)"
   ]
  },
  {
   "cell_type": "markdown",
   "metadata": {},
   "source": [
    "###  3) RNN model training\n",
    "> In this section we train a RNN model for each stock.\n",
    "\n",
    "In the model selection [notebook](./model_selection.ipynb) we seleted a bidirectional RNN model where we would pass parameter lists and then select the model with lowest MSE test. We use that model here to train every stock."
   ]
  },
  {
   "cell_type": "code",
   "execution_count": 3,
   "metadata": {},
   "outputs": [
    {
     "name": "stdout",
     "output_type": "stream",
     "text": [
      "\n",
      "    *** final_model() ***\n",
      "    ========================\n",
      "        RNN model with following layers:\n",
      "        1) Bidirectional LSTM layer (output size based on X input sequence length)\n",
      "        2) Fully connected layer (output based on input sequence length)\n",
      "        3) Dropout (based on given dropout rate) \n",
      "        4) Fully connected tanh output layer of 1\n",
      "\n",
      "    Parameters\n",
      "    -----------\n",
      "    X: numpy array\n",
      "        input sequence data.\n",
      "\n",
      "    y: numpy array\n",
      "        target sequence data.\n",
      "\n",
      "    learn_rate: float\n",
      "        Neural network learning rate.\n",
      "        \n",
      "    dropout: float\n",
      "        Dropout rate.\n",
      "\n",
      "    Returns \n",
      "    -----------\n",
      "    Returns compiled keras sequential model\n",
      "    \n",
      "\n",
      "    *** model_selector() ***\n",
      "    ========================\n",
      "\n",
      "        Selects the best peforming (base on lowest MSE on test data) model for a given ticker based on \n",
      "        the given widow sizes, learn rates, drop out rates, and epoch counts\n",
      "\n",
      "    Parameter\n",
      "    -----------\n",
      "    ticker: str\n",
      "        company trade symbol.\n",
      "\n",
      "    window_size: list\n",
      "        List of sequence lengths to test.\n",
      "\n",
      "    learn_rates: list\n",
      "        List of learning rates to test.\n",
      "        \n",
      "    dropouts: list`\n",
      "        List of dropouts rates to test.\n",
      "\n",
      "    epochs: list\n",
      "        List of epochs to test.\n",
      "    \n",
      "    batch_size: int\n",
      "        training batch_size\n",
      "\n",
      "    verbose: int [defualt 0]\n",
      "        print to screen indicator.  \n",
      "        If 0 does not print anything to screen.\n",
      "\n",
      "        If 1 prints detail for each model tested and also the \n",
      "        summary detail for choosen model to screen.\n",
      "\n",
      "        If 2 prints summary detail for choosen model to screen.\n",
      "\n",
      "    Returns\n",
      "    -----------\n",
      "    Tuple with two items.  First item is the keras trained model and \n",
      "    second a dictionary with the following keys:\n",
      "        1) ticker: company trade symbol of the trained company \n",
      "        2) test_error :   the model MSE test error  \n",
      "        3) train_error:  the moodel MSE training error \n",
      "        4) dropout:  the moodel drop out rate\n",
      "        5) epoch:  the moodel epoch count\n",
      "        6) learn_rate:  the moodel learning rate\n",
      "        7) window_size:  the sequence length of the input data\n",
      "    \n"
     ]
    }
   ],
   "source": [
    "print(final_model.__doc__)\n",
    "print(model_selector.__doc__)"
   ]
  },
  {
   "cell_type": "code",
   "execution_count": null,
   "metadata": {},
   "outputs": [],
   "source": [
    "#our model selector input variables\n",
    "window_sizes = [5,7,10]\n",
    "dropouts =  [0.25,0.4]\n",
    "learn_rates = [0.01,0.001]\n",
    "epochs = [100,200]\n",
    "batch_size = 50"
   ]
  },
  {
   "cell_type": "markdown",
   "metadata": {},
   "source": [
    "### Train one stock\n",
    "> Here lets train the first stock in our list and save to disk."
   ]
  },
  {
   "cell_type": "code",
   "execution_count": null,
   "metadata": {
    "scrolled": false
   },
   "outputs": [
    {
     "name": "stdout",
     "output_type": "stream",
     "text": [
      "*** Best Model Selection for SNAP ***\n",
      "============================================================\n",
      "\n",
      "Window size: 5\n",
      "------------------------------------------------------------\n",
      "WARNING:tensorflow:From c:\\program files\\python37\\lib\\site-packages\\tensorflow\\python\\framework\\op_def_library.py:263: colocate_with (from tensorflow.python.framework.ops) is deprecated and will be removed in a future version.\n",
      "Instructions for updating:\n",
      "Colocations handled automatically by placer.\n",
      "WARNING:tensorflow:From c:\\program files\\python37\\lib\\site-packages\\keras\\backend\\tensorflow_backend.py:3445: calling dropout (from tensorflow.python.ops.nn_ops) with keep_prob is deprecated and will be removed in a future version.\n",
      "Instructions for updating:\n",
      "Please use `rate` instead of `keep_prob`. Rate should be set to `rate = 1 - keep_prob`.\n",
      "WARNING:tensorflow:From c:\\program files\\python37\\lib\\site-packages\\tensorflow\\python\\ops\\math_ops.py:3066: to_int32 (from tensorflow.python.ops.math_ops) is deprecated and will be removed in a future version.\n",
      "Instructions for updating:\n",
      "Use tf.cast instead.\n",
      "1     > Learn rate: 0.0100 Dropout: 0.25 Epoch: 100 Training error: 0.0128 Testing error: 0.0193\n",
      "2     > Learn rate: 0.0100 Dropout: 0.25 Epoch: 200 Training error: 0.0066 Testing error: 0.0042\n",
      "3     > Learn rate: 0.0100 Dropout: 0.40 Epoch: 100 Training error: 0.0107 Testing error: 0.0075\n",
      "4     > Learn rate: 0.0100 Dropout: 0.40 Epoch: 200 Training error: 0.0077 Testing error: 0.0100\n",
      "5     > Learn rate: 0.0010 Dropout: 0.25 Epoch: 100 Training error: 0.0073 Testing error: 0.0105\n",
      "6     > Learn rate: 0.0010 Dropout: 0.25 Epoch: 200 Training error: 0.0057 Testing error: 0.0064\n",
      "7     > Learn rate: 0.0010 Dropout: 0.40 Epoch: 100 Training error: 0.0065 Testing error: 0.0081\n",
      "8     > Learn rate: 0.0010 Dropout: 0.40 Epoch: 200 Training error: 0.0064 Testing error: 0.0055\n",
      "\n",
      "Window size: 7\n",
      "------------------------------------------------------------\n",
      "9     > Learn rate: 0.0100 Dropout: 0.25 Epoch: 100 Training error: 0.0087 Testing error: 0.0039\n",
      "10    > Learn rate: 0.0100 Dropout: 0.25 Epoch: 200 Training error: 0.0066 Testing error: 0.0116\n",
      "11    > Learn rate: 0.0100 Dropout: 0.40 Epoch: 100 Training error: 0.0124 Testing error: 0.0196\n",
      "12    > Learn rate: 0.0100 Dropout: 0.40 Epoch: 200 Training error: 0.0097 Testing error: 0.0437\n",
      "13    > Learn rate: 0.0010 Dropout: 0.25 Epoch: 100 Training error: 0.0068 Testing error: 0.0124\n",
      "14    > Learn rate: 0.0010 Dropout: 0.25 Epoch: 200 Training error: 0.0059 Testing error: 0.0087\n",
      "15    > Learn rate: 0.0010 Dropout: 0.40 Epoch: 100 Training error: 0.0071 Testing error: 0.0060\n",
      "16    > Learn rate: 0.0010 Dropout: 0.40 Epoch: 200 Training error: 0.0059 Testing error: 0.0094\n",
      "\n",
      "Window size: 10\n",
      "------------------------------------------------------------\n",
      "17    > Learn rate: 0.0100 Dropout: 0.25 Epoch: 100 Training error: 0.0241 Testing error: 0.0124\n",
      "18    > Learn rate: 0.0100 Dropout: 0.25 Epoch: 200 Training error: 0.0056 Testing error: 0.0093\n",
      "19    > Learn rate: 0.0100 Dropout: 0.40 Epoch: 100 Training error: 0.0127 Testing error: 0.0189\n",
      "20    > Learn rate: 0.0100 Dropout: 0.40 Epoch: 200 Training error: 0.0074 Testing error: 0.0140\n",
      "21    > Learn rate: 0.0010 Dropout: 0.25 Epoch: 100 Training error: 0.0067 Testing error: 0.0160\n",
      "22    > Learn rate: 0.0010 Dropout: 0.25 Epoch: 200 Training error: 0.0056 Testing error: 0.0057\n",
      "23    > Learn rate: 0.0010 Dropout: 0.40 Epoch: 100 Training error: 0.0076 Testing error: 0.0164\n",
      "24    > Learn rate: 0.0010 Dropout: 0.40 Epoch: 200 Training error: 0.0055 Testing error: 0.0050\n",
      "\n",
      "Model selection summary for SNAP with window size of 7:\n",
      "------------------------------------------------------------\n",
      " ==> Learn rate: 0.0100 Dropout: 0.25 Epoch: 100 Training error: 0.0087 Testing error: 0.0039\n",
      "\n",
      "Results : \n",
      "------------------------------------------------------------\n",
      "<keras.engine.sequential.Sequential object at 0x0000015AA6EC53C8>\n",
      "{'ticker': 'SNAP', 'test_error': 0.0039, 'learn_rate': 0.01, 'dropout': 0.25, 'epoch': 100, 'train_error': 0.0087, 'window_size': 7}\n",
      "Saved trained model for SNAP\n"
     ]
    }
   ],
   "source": [
    "result = model_selector(symbols[23], window_sizes, learn_rates, dropouts, epochs, batch_size,verbose=1)\n",
    "\n",
    "print(\"\\nResults : \")\n",
    "print(\"-\"*60)\n",
    "print(result[0])\n",
    "\n",
    "print(result[1])\n",
    "#save trained model\n",
    "ModelLoader.save(result[1]['ticker'],result[0],result[1])\n",
    "print(\"Saved trained model for {}\".format(result[1]['ticker']))"
   ]
  },
  {
   "cell_type": "markdown",
   "metadata": {},
   "source": [
    "### Training remaining stocks\n",
    "> * Here train the remaining stocks and save the model to directory."
   ]
  },
  {
   "cell_type": "code",
   "execution_count": null,
   "metadata": {
    "scrolled": false
   },
   "outputs": [],
   "source": [
    "from keras import backend as K\n",
    "import tensorflow as tf\n",
    "\n",
    "for ticker in symbols[1:]:\n",
    "    #release memory\n",
    "    K.clear_session()\n",
    "    tf.reset_default_graph()\n",
    "    \n",
    "    result = model_selector(ticker, window_sizes, learn_rates, dropouts, epochs, batch_size,verbose=2)\n",
    "    \n",
    "    #save trained model\n",
    "    ModelLoader.save(result[1]['ticker'],result[0],result[1])\n",
    "    print(\" ==> Saved trained model for {}\".format(result[1]['ticker']))\n"
   ]
  }
 ],
 "metadata": {
  "anaconda-cloud": {},
  "kernelspec": {
   "display_name": "Python 3",
   "language": "python",
   "name": "python3"
  },
  "language_info": {
   "codemirror_mode": {
    "name": "ipython",
    "version": 3
   },
   "file_extension": ".py",
   "mimetype": "text/x-python",
   "name": "python",
   "nbconvert_exporter": "python",
   "pygments_lexer": "ipython3",
   "version": "3.7.3"
  }
 },
 "nbformat": 4,
 "nbformat_minor": 2
}
